{
 "cells": [
  {
   "cell_type": "code",
   "execution_count": 1,
   "metadata": {},
   "outputs": [
    {
     "name": "stdout",
     "output_type": "stream",
     "text": [
      "<class 'tuple'>\n"
     ]
    }
   ],
   "source": [
    "programming_language = (\"Java\", \"c++\", \"Python\", \"Scala\") # We create a tuple -> Tuples are immutable\n",
    "print(type(programming_language)) # We print the type"
   ]
  },
  {
   "cell_type": "code",
   "execution_count": 2,
   "metadata": {},
   "outputs": [
    {
     "name": "stdout",
     "output_type": "stream",
     "text": [
      "1\n",
      "2\n",
      "3\n",
      "4\n",
      "5\n",
      "6\n",
      "7\n",
      "8\n",
      "9\n"
     ]
    }
   ],
   "source": [
    "# For loop\n",
    "for i in range(1,10): \n",
    "    print(i)"
   ]
  },
  {
   "cell_type": "code",
   "execution_count": 3,
   "metadata": {},
   "outputs": [
    {
     "name": "stdout",
     "output_type": "stream",
     "text": [
      "Java\n",
      "c++\n",
      "Python\n",
      "Scala\n"
     ]
    }
   ],
   "source": [
    "# Applying for loop in programming_languagabse\n",
    "for language in programming_language:\n",
    "    print(language)"
   ]
  },
  {
   "cell_type": "markdown",
   "metadata": {},
   "source": [
    "# Tic Tac Toe\n",
    "\n",
    "    1. Whenever you get a problem; break it down.\n",
    "    2. Take the small pieces and complete it one by one\n",
    "    3. Let us visualize the game and begin\n"
   ]
  },
  {
   "cell_type": "code",
   "execution_count": 4,
   "metadata": {},
   "outputs": [],
   "source": [
    "# game = [0,0,0,\n",
    "#        0,0,0,\n",
    "#        0,0,0]\n",
    "\n",
    "# print(game) # issue with this is it is not represented well"
   ]
  },
  {
   "cell_type": "code",
   "execution_count": 8,
   "metadata": {},
   "outputs": [
    {
     "name": "stdout",
     "output_type": "stream",
     "text": [
      "[0, 0, 0]\n",
      "[0, 0, 0]\n",
      "[0, 0, 0]\n"
     ]
    }
   ],
   "source": [
    "# We create list and sub-lists\n",
    "game = [[0,0,0],\n",
    "       [0,0,0],\n",
    "       [0,0,0],]\n",
    "\n",
    "# add for loop\n",
    "for row in game:\n",
    "    print(row)\n",
    "    \n",
    "# we printed 3*3 but we want the user to navigate"
   ]
  },
  {
   "cell_type": "markdown",
   "metadata": {},
   "source": [
    "## Let us help the user to visualize where they want to play:\n"
   ]
  },
  {
   "cell_type": "code",
   "execution_count": 17,
   "metadata": {},
   "outputs": [
    {
     "name": "stdout",
     "output_type": "stream",
     "text": [
      "   0, 1, 2\n",
      "0 [0, 0, 0]\n",
      "1 [0, 0, 0]\n",
      "2 [0, 0, 0]\n"
     ]
    }
   ],
   "source": [
    "print (\"   0, 1, 2\") # This gives the index\n",
    "count = 0\n",
    "\n",
    "for row in game: # Same for loop\n",
    "    print(count, row) # We add count to print (it prints '0s')\n",
    "    count += 1 "
   ]
  },
  {
   "cell_type": "markdown",
   "metadata": {},
   "source": [
    "## But, we can also use python functions:\n",
    "\n",
    "Let us use enumerate function\n",
    "Link: https://docs.python.org/2.3/whatsnew/section-enumerate.html"
   ]
  },
  {
   "cell_type": "code",
   "execution_count": 22,
   "metadata": {},
   "outputs": [
    {
     "name": "stdout",
     "output_type": "stream",
     "text": [
      "   a, b, c\n",
      "0 [0, 0, 0]\n",
      "1 [0, 0, 0]\n",
      "2 [0, 0, 0]\n"
     ]
    }
   ],
   "source": [
    "print (\"   a, b, c\")\n",
    "\n",
    "# We use enumerate function when we want the list and the index of the list\n",
    "for count, row in enumerate(game):\n",
    "    print(count, row)"
   ]
  },
  {
   "cell_type": "markdown",
   "metadata": {},
   "source": [
    "## Let us take user's input:"
   ]
  },
  {
   "cell_type": "code",
   "execution_count": null,
   "metadata": {},
   "outputs": [],
   "source": [
    "def game_board():\n",
    "    print (\"   a, b, c\")\n",
    "\n",
    "    for count, row in enumerate(game):\n",
    "        print(count, row)"
   ]
  }
 ],
 "metadata": {
  "kernelspec": {
   "display_name": "Python 3",
   "language": "python",
   "name": "python3"
  },
  "language_info": {
   "codemirror_mode": {
    "name": "ipython",
    "version": 3
   },
   "file_extension": ".py",
   "mimetype": "text/x-python",
   "name": "python",
   "nbconvert_exporter": "python",
   "pygments_lexer": "ipython3",
   "version": "3.7.6"
  }
 },
 "nbformat": 4,
 "nbformat_minor": 4
}
